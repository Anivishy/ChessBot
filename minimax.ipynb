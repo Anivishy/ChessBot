{
 "cells": [
  {
   "cell_type": "code",
   "execution_count": 1,
   "metadata": {},
   "outputs": [
    {
     "ename": "ModuleNotFoundError",
     "evalue": "No module named 'chess'",
     "output_type": "error",
     "traceback": [
      "\u001b[1;31m---------------------------------------------------------------------------\u001b[0m",
      "\u001b[1;31mModuleNotFoundError\u001b[0m                       Traceback (most recent call last)",
      "Cell \u001b[1;32mIn[1], line 1\u001b[0m\n\u001b[1;32m----> 1\u001b[0m \u001b[38;5;28;01mimport\u001b[39;00m \u001b[38;5;21;01mchess\u001b[39;00m\n\u001b[0;32m      2\u001b[0m \u001b[38;5;28;01mimport\u001b[39;00m \u001b[38;5;21;01mpandas\u001b[39;00m \u001b[38;5;28;01mas\u001b[39;00m \u001b[38;5;21;01mpd\u001b[39;00m\n\u001b[0;32m      3\u001b[0m \u001b[38;5;28;01mfrom\u001b[39;00m \u001b[38;5;21;01mcopy\u001b[39;00m \u001b[38;5;28;01mimport\u001b[39;00m deepcopy\n",
      "\u001b[1;31mModuleNotFoundError\u001b[0m: No module named 'chess'"
     ]
    }
   ],
   "source": [
    "import chess\n",
    "import pandas as pd\n",
    "from copy import deepcopy\n"
   ]
  },
  {
   "cell_type": "code",
   "execution_count": null,
   "metadata": {},
   "outputs": [],
   "source": [
    "\n",
    "\n",
    "import random\n",
    "\n",
    "class ChessAI():\n",
    "    def __init__(self,depth) -> None:\n",
    "        self.max_depth = depth\n",
    "        self.empty_board = chess.Board()\n",
    "\n",
    "    def get_legal_moves(self,board:chess.Board)->chess.Board:\n",
    "        moves = board.legal_moves\n",
    "        # allboards = []\n",
    "        # for i in moves:\n",
    "        #     posBoard = deepcopy(board)\n",
    "        #     posBoard.push(i)\n",
    "        #     allboards.append(posBoard),w\n",
    "        return moves\n",
    "\n",
    "    def get_eval_bar(self,board):\n",
    "        #TODO\n",
    "        return random.randint(-100,100)\n",
    "\n",
    "    def minimax_recursive(self,curBoard,curTurn,curDepth):\n",
    "        if curDepth == self.max_depth:\n",
    "            return (self.get_eval_bar(curBoard),curBoard)\n",
    "        \n",
    "        if curTurn == chess.WHITE:\n",
    "            highestEval = (-100000000000,self.empty_board)\n",
    "            for i in self.get_legal_moves(curBoard):\n",
    "                curBoard.push(i)\n",
    "                minmaxVal = self.minimax_recursive(curBoard, not curTurn,curDepth+1)\n",
    "                curBoard.pop()\n",
    "                if minmaxVal[0]>highestEval[0]:\n",
    "                    highestEval = minmaxVal\n",
    "\n",
    "            return highestEval\n",
    "        else:\n",
    "            lowestEval = (100000000000,self.empty_board)\n",
    "            for i in self.get_legal_moves(curBoard):\n",
    "                curBoard.push(i)\n",
    "                minmaxVal = self.minimax_recursive(curBoard,not curTurn,curDepth+1)\n",
    "                curBoard.pop()\n",
    "                if minmaxVal[0]<lowestEval[0]:\n",
    "                    lowestEval = minmaxVal\n",
    "            return lowestEval\n",
    "        \n",
    "    def get_ai_move(self,board,turn):\n",
    "        best_outcome = self.minimax_recursive(board,chess.WHITE,0)[1]\n",
    "        for i in range(self.max_depth-1):\n",
    "            best_outcome.pop()\n",
    "        return best_outcome"
   ]
  },
  {
   "cell_type": "code",
   "execution_count": null,
   "metadata": {},
   "outputs": [],
   "source": [
    "bot = ChessAI(4)\n",
    "board = chess.Board()\n",
    "bot.get_ai_move(board,chess.WHITE)"
   ]
  }
 ],
 "metadata": {
  "kernelspec": {
   "display_name": "Python 3",
   "language": "python",
   "name": "python3"
  },
  "language_info": {
   "codemirror_mode": {
    "name": "ipython",
    "version": 3
   },
   "file_extension": ".py",
   "mimetype": "text/x-python",
   "name": "python",
   "nbconvert_exporter": "python",
   "pygments_lexer": "ipython3",
   "version": "0.0.0"
  }
 },
 "nbformat": 4,
 "nbformat_minor": 2
}
