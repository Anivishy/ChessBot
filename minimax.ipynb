{
 "cells": [
  {
   "cell_type": "code",
   "execution_count": 2,
   "metadata": {},
   "outputs": [],
   "source": [
    "import chess # type: ignore\n",
    "import pandas as pd\n",
    "from copy import deepcopy\n"
   ]
  },
  {
   "cell_type": "code",
   "execution_count": 5,
   "metadata": {},
   "outputs": [],
   "source": [
    "\n",
    "\n",
    "import random\n",
    "\n",
    "class ChessAI():\n",
    "    def __init__(self,depth) -> None:\n",
    "        self.max_depth = depth\n",
    "        self.empty_board = chess.Board()\n",
    "\n",
    "    def get_legal_moves(self,board:chess.Board)->chess.Board:\n",
    "        moves = board.legal_moves\n",
    "        allboards = []\n",
    "        for i in moves:\n",
    "            posBoard = deepcopy(board)\n",
    "            posBoard.push(i)\n",
    "            allboards.append(posBoard)\n",
    "        return allboards\n",
    "\n",
    "    def get_eval_bar(self,board):\n",
    "        #TODO\n",
    "        return random.randint(-100,100)\n",
    "\n",
    "    def minimax_recursive(self,curBoard,curTurn,curDepth):\n",
    "        if curDepth == self.max_depth:\n",
    "            return (self.get_eval_bar(curBoard),curBoard)\n",
    "\n",
    "\n",
    "        if curTurn == chess.WHITE:\n",
    "            highestEval = (-100000000000,self.empty_board)\n",
    "            for i in self.get_legal_moves(curBoard):\n",
    "                minmaxVal = self.minimax_recursive(i, not curTurn,curDepth+1)\n",
    "                if minmaxVal[0]>highestEval[0]:\n",
    "                    highestEval = minmaxVal\n",
    "\n",
    "            return highestEval\n",
    "        else:\n",
    "            lowestEval = (100000000000,self.empty_board)\n",
    "            for i in self.get_legal_moves(curBoard):\n",
    "                minmaxVal = self.minimax_recursive(i,not curTurn,curDepth+1)\n",
    "                if minmaxVal[0]<lowestEval[0]:\n",
    "                    lowestEval = minmaxVal\n",
    "            return lowestEval\n",
    "        \n",
    "    def get_ai_move(self,board,turn):\n",
    "        best_outcome = self.minimax_recursive(board,chess.WHITE,0)[1]\n",
    "        for i in range(self.max_depth-1):\n",
    "            best_outcome.pop()\n",
    "        return best_outcome"
   ]
  },
  {
   "cell_type": "code",
   "execution_count": 16,
   "metadata": {},
   "outputs": [
    {
     "name": "stdout",
     "output_type": "stream",
     "text": [
      "<bound method BaseBoard.king of Board('rnbqkbnr/pppppppp/8/8/8/8/PPPPPPPP/RNBQKBNR w KQkq - 0 1')>\n"
     ]
    }
   ],
   "source": [
    "bot = ChessAI(1)\n",
    "board = chess.Board()\n",
    "# bot.get_ai_move(board,chess.WHITE)\n",
    "print(board.king(True))"
   ]
  }
 ],
 "metadata": {
  "kernelspec": {
   "display_name": "Python 3",
   "language": "python",
   "name": "python3"
  },
  "language_info": {
   "codemirror_mode": {
    "name": "ipython",
    "version": 3
   },
   "file_extension": ".py",
   "mimetype": "text/x-python",
   "name": "python",
   "nbconvert_exporter": "python",
   "pygments_lexer": "ipython3",
   "version": "3.10.14"
  }
 },
 "nbformat": 4,
 "nbformat_minor": 2
}
