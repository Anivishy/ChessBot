{
 "cells": [
  {
   "cell_type": "code",
   "execution_count": 2,
   "metadata": {},
   "outputs": [],
   "source": [
    "import chess\n",
    "import pandas as pd\n",
    "from copy import deepcopy\n"
   ]
  },
  {
   "cell_type": "code",
   "execution_count": 5,
   "metadata": {},
   "outputs": [],
   "source": [
    "\n",
    "\n",
    "import random\n",
    "\n",
    "\n",
    "board = chess.Board()\n",
    "\n",
    "def getLegalMoves(board:chess.Board)->chess.Board:\n",
    "    moves = board.legal_moves\n",
    "    allboards = []\n",
    "    for i in moves:\n",
    "        allboards.append(deepcopy(board).push(i))\n",
    "    return allboards\n",
    "\n",
    "def getEvalBar(board):\n",
    "    #TODO\n",
    "    return random.randint(0,100)\n",
    "\n",
    "def minimax(curBoard,curTurn,curDepth):\n",
    "    maxDepth = 5\n",
    "    nextTurn = chess.BLACK\n",
    "    if curDepth == maxDepth:\n",
    "        return getEvalBar(curBoard)\n",
    "    \n",
    "    if curTurn == chess.BLACK:\n",
    "        nextTurn = chess.WHITE\n",
    "\n",
    "    if curTurn == chess.BLACK:\n",
    "        highestEval = (100000000000,board)\n",
    "        for i in getLegalMoves(curBoard):\n",
    "            minmaxVal = minimax(i,nextTurn,curDepth+1)\n",
    "            if minmaxVal>highestEval[0]:\n",
    "                highestEval = (minmaxVal,i)\n",
    "        return highestEval\n",
    "    else:\n",
    "        lowestEval = (-100000000000,board)\n",
    "        for i in getLegalMoves(curBoard):\n",
    "            minmaxVal = minimax(i,nextTurn,curDepth+1)\n",
    "            if minmaxVal<lowestEval[0]:\n",
    "                lowestEval = (minmaxVal,i)\n",
    "        return lowestEval\n",
    "    \n"
   ]
  }
 ],
 "metadata": {
  "kernelspec": {
   "display_name": "Python 3",
   "language": "python",
   "name": "python3"
  },
  "language_info": {
   "codemirror_mode": {
    "name": "ipython",
    "version": 3
   },
   "file_extension": ".py",
   "mimetype": "text/x-python",
   "name": "python",
   "nbconvert_exporter": "python",
   "pygments_lexer": "ipython3",
   "version": "3.11.8"
  }
 },
 "nbformat": 4,
 "nbformat_minor": 2
}
